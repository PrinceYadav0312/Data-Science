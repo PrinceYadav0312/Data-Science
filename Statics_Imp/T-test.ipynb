{
 "cells": [
  {
   "cell_type": "code",
   "execution_count": 1,
   "id": "4a0b588e",
   "metadata": {},
   "outputs": [],
   "source": [
    "import numpy as np\n",
    "from scipy import stats"
   ]
  },
  {
   "cell_type": "code",
   "execution_count": 2,
   "id": "72cd8166",
   "metadata": {},
   "outputs": [],
   "source": [
    "sample = [172, 174, 168, 169, 171, 173, 175, 170, 169, 172]\n",
    "sample_mean = np.mean(sample)\n",
    "sample_std = np.std(sample,ddof = 1)\n",
    "n = len(sample)\n",
    "mean_population = 170"
   ]
  },
  {
   "cell_type": "code",
   "execution_count": 3,
   "id": "731f62c2",
   "metadata": {},
   "outputs": [
    {
     "data": {
      "text/plain": [
       "np.float64(1.7782469350914734)"
      ]
     },
     "execution_count": 3,
     "metadata": {},
     "output_type": "execute_result"
    }
   ],
   "source": [
    "t_stats = (sample_mean - mean_population) / (sample_std / np.sqrt(n))\n",
    "t_stats"
   ]
  },
  {
   "cell_type": "code",
   "execution_count": 6,
   "id": "a5dc05c9",
   "metadata": {},
   "outputs": [],
   "source": [
    "p_values = 2 * (1 - stats.t.cdf(abs(t_stats),df = n -1))\n",
    "p_values\n",
    "alpha = 0.05"
   ]
  },
  {
   "cell_type": "code",
   "execution_count": 8,
   "id": "c5194a35",
   "metadata": {},
   "outputs": [
    {
     "name": "stdout",
     "output_type": "stream",
     "text": [
      "Accept the Null Hypothesis\n"
     ]
    }
   ],
   "source": [
    "if p_values < alpha:\n",
    "    print(\"I am Rejecting null Hypothesis\")\n",
    "else:\n",
    "    print(\"Accept the Null Hypothesis\")\n"
   ]
  },
  {
   "cell_type": "code",
   "execution_count": null,
   "id": "c114b727",
   "metadata": {},
   "outputs": [],
   "source": []
  }
 ],
 "metadata": {
  "kernelspec": {
   "display_name": "venv",
   "language": "python",
   "name": "python3"
  },
  "language_info": {
   "codemirror_mode": {
    "name": "ipython",
    "version": 3
   },
   "file_extension": ".py",
   "mimetype": "text/x-python",
   "name": "python",
   "nbconvert_exporter": "python",
   "pygments_lexer": "ipython3",
   "version": "3.13.7"
  }
 },
 "nbformat": 4,
 "nbformat_minor": 5
}
